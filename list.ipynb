{
 "cells": [
  {
   "cell_type": "markdown",
   "metadata": {
    "cellType": "markdown",
    "uuid": "53979143-9b69-46eb-8f8a-f8d9743d4b76"
   },
   "source": [
    "### 容器数据类型\n",
    "```\n",
    "1.列表<class 'list'>\n",
    "2.元组<class 'tuple'>\n",
    "3.字典<class 'dict'>\n",
    "4.集合<class 'set'>\n",
    "5.字符串<class 'str'>\n",
    "```"
   ]
  },
  {
   "cell_type": "markdown",
   "metadata": {
    "cellType": "markdown",
    "uuid": "f9ee237e-34b3-4a09-ad0f-696ca13989ec"
   },
   "source": [
    "### 列表的定义"
   ]
  },
  {
   "cell_type": "markdown",
   "metadata": {
    "cellType": "markdown",
    "uuid": "0c6c8a39-98c9-4874-9d5b-eb6d6e9beeb1"
   },
   "source": [
    "列表是有序集合，没有固定大小，能够保存任意数量任意类型的 Python 对象，语法为 [元素1, 元素2, ..., 元素n]。\n",
    "```\n",
    "1.关键点是「中括号 []」和「逗号 ,」\n",
    "2.中括号 把所有元素绑在一起\n",
    "3.逗号 将每个元素一一分开\n",
    "\n",
    "```"
   ]
  },
  {
   "cell_type": "markdown",
   "metadata": {
    "cellType": "markdown",
    "uuid": "861a3df5-7544-4678-9486-f105f0ca235b"
   },
   "source": [
    "#### 利用range()创建列表"
   ]
  },
  {
   "cell_type": "markdown",
   "metadata": {
    "cellType": "markdown",
    "uuid": "eb28420c-e436-4e10-8aae-b747c2844107"
   },
   "source": [
    "【例子】："
   ]
  },
  {
   "cell_type": "code",
   "execution_count": 1,
   "metadata": {
    "cellType": "code",
    "uuid": "738a7003-cff3-4acc-aca3-fc3618cc5363"
   },
   "outputs": [
    {
     "name": "stdout",
     "output_type": "stream",
     "text": [
      "[0, 1, 2, 3, 4, 5, 6, 7, 8, 9] <class 'list'>\n",
      "[1, 3, 5, 7, 9] <class 'list'>\n",
      "[10, 8, 6, 4, 2] <class 'list'>\n"
     ]
    }
   ],
   "source": [
    "x = list(range(10))\n",
    "print(x, type(x))\n",
    "# [0, 1, 2, 3, 4, 5, 6, 7, 8, 9] <class 'list'>\n",
    "\n",
    "x = list(range(1, 11, 2))\n",
    "print(x, type(x))\n",
    "# [1, 3, 5, 7, 9] <class 'list'>\n",
    "\n",
    "x = list(range(10, 1, -2))\n",
    "print(x, type(x))\n",
    "# [10, 8, 6, 4, 2] <class 'list'>"
   ]
  },
  {
   "cell_type": "markdown",
   "metadata": {
    "cellType": "markdown",
    "uuid": "a652e9b6-601d-447e-ba41-bab9b89fceeb"
   },
   "source": [
    "#### 利用推导式创建列表\n",
    "【例子】："
   ]
  },
  {
   "cell_type": "code",
   "execution_count": 2,
   "metadata": {
    "uuid": "f936dbb7-a786-4ce8-91e7-ab340a43681b"
   },
   "outputs": [
    {
     "name": "stdout",
     "output_type": "stream",
     "text": [
      "[0, 0, 0, 0, 0] <class 'list'>\n",
      "[0, 0, 0, 0, 0] <class 'list'>\n",
      "[0, 1, 2, 3, 4, 5, 6, 7, 8, 9] <class 'list'>\n",
      "[1, 3, 5, 7, 9] <class 'list'>\n",
      "[10, 8, 6, 4, 2] <class 'list'>\n",
      "[1, 4, 9, 16, 25, 36, 49, 64, 81] <class 'list'>\n",
      "[3, 9, 15, 21, 27, 33, 39, 45, 51, 57, 63, 69, 75, 81, 87, 93, 99] <class 'list'>\n"
     ]
    }
   ],
   "source": [
    "x = [0] * 5\n",
    "print(x, type(x))\n",
    "# [0, 0, 0, 0, 0] <class 'list'>\n",
    "\n",
    "x = [0 for i in range(5)]\n",
    "print(x, type(x))\n",
    "# [0, 0, 0, 0, 0] <class 'list'>\n",
    "\n",
    "x = [i for i in range(10)]\n",
    "print(x, type(x))\n",
    "# [0, 1, 2, 3, 4, 5, 6, 7, 8, 9] <class 'list'>\n",
    "\n",
    "x = [i for i in range(1, 10, 2)]\n",
    "print(x, type(x))\n",
    "# [1, 3, 5, 7, 9] <class 'list'>\n",
    "\n",
    "x = [i for i in range(10, 1, -2)]\n",
    "print(x, type(x))\n",
    "# [10, 8, 6, 4, 2] <class 'list'>\n",
    "\n",
    "x = [i ** 2 for i in range(1, 10)]\n",
    "print(x, type(x))\n",
    "# [1, 4, 9, 16, 25, 36, 49, 64, 81] <class 'list'>\n",
    "\n",
    "x = [i for i in range(100) if (i % 2) != 0 and (i % 3) == 0]\n",
    "print(x, type(x))"
   ]
  },
  {
   "cell_type": "markdown",
   "metadata": {
    "cellType": "markdown",
    "uuid": "9ccad13e-6249-488a-975f-bf14871723c2"
   },
   "source": [
    "#### 创建一个4*3的二维数组\n",
    "【例子】:"
   ]
  },
  {
   "cell_type": "code",
   "execution_count": 7,
   "metadata": {
    "uuid": "0374318c-a124-44b7-bcc7-ad4ad5d35623"
   },
   "outputs": [
    {
     "name": "stdout",
     "output_type": "stream",
     "text": [
      "[[0, 0, 0], [0, 0, 0], [0, 0, 0], [0, 0, 0]] <class 'list'>\n",
      "[[1, 0, 0], [0, 0, 0], [0, 0, 0], [0, 0, 0]] <class 'list'>\n",
      "[[0, 0, 0], [0, 0, 0], [0, 0, 0], [0, 0, 0]] <class 'list'>\n",
      "[[0, 0, 0], [0, 1, 0], [0, 0, 0], [0, 0, 0]] <class 'list'>\n"
     ]
    }
   ],
   "source": [
    "x = [[0 for col in range(3)] for row in range(4)]\n",
    "print(x, type(x))\n",
    "\n",
    "x[0][0] = 1\n",
    "print(x, type(x))\n",
    "\n",
    "x = [[0] * 3 for row in range(4)]\n",
    "print(x, type(x))\n",
    "\n",
    "x[1][1] = 1\n",
    "print(x, type(x))"
   ]
  },
  {
   "cell_type": "markdown",
   "metadata": {
    "cellType": "markdown",
    "uuid": "f8ba26e6-bd8a-46f0-a4e2-3f2015084b16"
   },
   "source": [
    "【注意】：\n",
    "由于list的元素可以是任何对象，因此列表中所保存的是对象的指针。即使保存一个简单的[1,2,3]，也有3个指针和3个整数对象\n",
    "x = [a] * 4操作中，只是创建4个指向list的引用，所以一旦a改变，x中4个a也会随之改变。"
   ]
  },
  {
   "cell_type": "code",
   "execution_count": 9,
   "metadata": {
    "uuid": "7a731b55-1891-4c5e-a630-10893b970bc1"
   },
   "outputs": [
    {
     "name": "stdout",
     "output_type": "stream",
     "text": [
      "[[0, 0, 0], [0, 0, 0], [0, 0, 0], [0, 0, 0]] <class 'list'>\n",
      "[[0, 1, 0], [0, 1, 0], [0, 1, 0], [0, 1, 0]] <class 'list'>\n",
      "[[0, 0, 0], [0, 0, 0], [0, 0, 0], [0, 0, 0]] <class 'list'>\n",
      "[[1, 0, 0], [1, 0, 0], [1, 0, 0], [1, 0, 0]] <class 'list'>\n"
     ]
    }
   ],
   "source": [
    "x = [[0] * 3] * 4\n",
    "print(x, type(x))\n",
    "# [[0, 0, 0], [0, 0, 0], [0, 0, 0], [0, 0, 0]] <class 'list'>\n",
    "\n",
    "x[1][1] = 1\n",
    "print(x, type(x))\n",
    "# [[1, 0, 0], [1, 0, 0], [1, 0, 0], [1, 0, 0]] <class 'list'>\n",
    "\n",
    "a = [0] * 3\n",
    "x = [a] * 4\n",
    "print(x, type(x))\n",
    "# [[0, 0, 0], [0, 0, 0], [0, 0, 0], [0, 0, 0]] <class 'list'>\n",
    "\n",
    "x[0][0] = 1\n",
    "print(x, type(x))\n",
    "# [[1, 0, 0], [1, 0, 0], [1, 0, 0], [1, 0, 0]] <class 'list'>"
   ]
  },
  {
   "cell_type": "markdown",
   "metadata": {
    "cellType": "markdown",
    "uuid": "c1926bfb-5be4-4e57-8f05-67aaae731e96"
   },
   "source": [
    "#### 创建一个混合列表\n",
    "【例子】："
   ]
  },
  {
   "cell_type": "code",
   "execution_count": 10,
   "metadata": {
    "uuid": "83ecb069-b543-411b-9df5-99cb5e877bd8"
   },
   "outputs": [
    {
     "name": "stdout",
     "output_type": "stream",
     "text": [
      "[1, 'lsgo', 3.14, [1, 2, 3]] <class 'list'>\n"
     ]
    }
   ],
   "source": [
    "mix = [1, 'lsgo', 3.14, [1, 2, 3]]\n",
    "print(mix, type(mix))  \n",
    "# [1, 'lsgo', 3.14, [1, 2, 3]] <class 'list'>"
   ]
  },
  {
   "cell_type": "markdown",
   "metadata": {
    "cellType": "markdown",
    "uuid": "61808662-6f2e-42d1-a40c-98bcfd5e34e1"
   },
   "source": [
    "#### 向列表中添加元素\n",
    "```list.append(obj) ```在列表末尾添加新的对象，只接受一个参数，参数可以是任何数据类型，被追加的元素在 list 中保持着原结构类型。"
   ]
  },
  {
   "cell_type": "markdown",
   "metadata": {
    "cellType": "markdown",
    "uuid": "568e3b8d-a2a0-4410-b9c6-bba6807d925b"
   },
   "source": [
    "【例子】："
   ]
  },
  {
   "cell_type": "code",
   "execution_count": 11,
   "metadata": {
    "uuid": "c76c1638-4312-43ed-9374-0cbea51a8e73"
   },
   "outputs": [
    {
     "name": "stdout",
     "output_type": "stream",
     "text": [
      "['Monday', 'Tuesday', 'Wednesday', 'Thursday', 'Friday', 'Thursday']\n",
      "6\n"
     ]
    }
   ],
   "source": [
    "x = ['Monday', 'Tuesday', 'Wednesday', 'Thursday', 'Friday']\n",
    "x.append('Thursday')\n",
    "print(x)  \n",
    "# ['Monday', 'Tuesday', 'Wednesday', 'Thursday', 'Friday', 'Thursday']\n",
    "\n",
    "print(len(x))  # 6"
   ]
  },
  {
   "cell_type": "markdown",
   "metadata": {
    "cellType": "markdown",
    "uuid": "b9f0cb4f-6c3e-4912-8011-ebf61801afbe"
   },
   "source": [
    "此元素如果是一个```list```，那么这个 ```list ```将作为一个整体进行追加，注意```append()```和```extend()```的区别"
   ]
  },
  {
   "cell_type": "code",
   "execution_count": 12,
   "metadata": {
    "uuid": "dd85edb9-94f7-49ac-a1b6-da82d9b1cf74"
   },
   "outputs": [
    {
     "name": "stdout",
     "output_type": "stream",
     "text": [
      "['Monday', 'Tuesday', 'Wednesday', 'Thursday', 'Friday', ['Thursday', 'Sunday']]\n",
      "6\n"
     ]
    }
   ],
   "source": [
    "x = ['Monday', 'Tuesday', 'Wednesday', 'Thursday', 'Friday']\n",
    "x.append(['Thursday', 'Sunday'])\n",
    "print(x)  \n",
    "# ['Monday', 'Tuesday', 'Wednesday', 'Thursday', 'Friday', ['Thursday', 'Sunday']]\n",
    "\n",
    "print(len(x))  # 6"
   ]
  },
  {
   "cell_type": "markdown",
   "metadata": {
    "cellType": "markdown",
    "uuid": "5a29b39c-78c5-41a4-b94b-01817142525b"
   },
   "source": [
    "```list.extend(seq) ```在列表末尾一次性追加另一个序列中的多个值（用新列表扩展原来的列表）"
   ]
  },
  {
   "cell_type": "code",
   "execution_count": 13,
   "metadata": {
    "uuid": "8681d221-40ea-4a17-b86d-e3d9072fcfc7"
   },
   "outputs": [
    {
     "name": "stdout",
     "output_type": "stream",
     "text": [
      "['Monday', 'Tuesday', 'Wednesday', 'Thursday', 'Friday', 'Thursday', 'Sunday']\n",
      "7\n"
     ]
    }
   ],
   "source": [
    "x = ['Monday', 'Tuesday', 'Wednesday', 'Thursday', 'Friday']\n",
    "x.extend(['Thursday', 'Sunday'])\n",
    "print(x)  \n",
    "# ['Monday', 'Tuesday', 'Wednesday', 'Thursday', 'Friday', 'Thursday', 'Sunday']\n",
    "\n",
    "print(len(x))  # 7"
   ]
  },
  {
   "cell_type": "markdown",
   "metadata": {
    "cellType": "markdown",
    "uuid": "421ccfac-2036-45bb-b579-bbb49199eaab"
   },
   "source": [
    "严格来说 ```append``` 是追加，把一个东西整体添加在列表后，而`` extend`` 是扩展，把一个东西里的所有元素添加在列表后。"
   ]
  },
  {
   "cell_type": "markdown",
   "metadata": {
    "cellType": "markdown",
    "uuid": "289baa42-ec57-491d-8642-ab10c8a7e391"
   },
   "source": [
    "```list.insert(index, obj)``` 在编号 index 位置插入 obj。"
   ]
  },
  {
   "cell_type": "code",
   "execution_count": 14,
   "metadata": {
    "uuid": "b7beb159-a734-4b49-9b62-99e2a198195c"
   },
   "outputs": [
    {
     "name": "stdout",
     "output_type": "stream",
     "text": [
      "['Monday', 'Tuesday', 'Sunday', 'Wednesday', 'Thursday', 'Friday']\n",
      "6\n"
     ]
    }
   ],
   "source": [
    "x = ['Monday', 'Tuesday', 'Wednesday', 'Thursday', 'Friday']\n",
    "x.insert(2, 'Sunday')\n",
    "print(x)\n",
    "# ['Monday', 'Tuesday', 'Sunday', 'Wednesday', 'Thursday', 'Friday']\n",
    "\n",
    "print(len(x))  # 6"
   ]
  },
  {
   "cell_type": "markdown",
   "metadata": {
    "cellType": "markdown",
    "uuid": "c9acea35-30a7-4514-aab6-d421e2bcea8f"
   },
   "source": [
    "### 删除列表中的元素"
   ]
  },
  {
   "cell_type": "markdown",
   "metadata": {
    "cellType": "markdown",
    "uuid": "9334d044-65fe-4634-a01d-17a4b49eafae"
   },
   "source": [
    "```list.remove(obj)``` 移除列表中某个值的第一个匹配项"
   ]
  },
  {
   "cell_type": "code",
   "execution_count": 15,
   "metadata": {
    "uuid": "aa28f852-e102-483c-95da-fdfa57227068"
   },
   "outputs": [
    {
     "name": "stdout",
     "output_type": "stream",
     "text": [
      "['Tuesday', 'Wednesday', 'Thursday', 'Friday']\n"
     ]
    }
   ],
   "source": [
    "x = ['Monday', 'Tuesday', 'Wednesday', 'Thursday', 'Friday']\n",
    "x.remove('Monday')\n",
    "print(x)  # ['Tuesday', 'Wednesday', 'Thursday', 'Friday']"
   ]
  },
  {
   "cell_type": "markdown",
   "metadata": {
    "cellType": "markdown",
    "uuid": "d734c8f3-5ca6-45b7-a11d-45d88c587995"
   },
   "source": [
    "```list.pop([index=-1]) ```移除列表中的一个元素（默认最后一个元素），并且返回该元素的值"
   ]
  },
  {
   "cell_type": "markdown",
   "metadata": {
    "cellType": "markdown",
    "uuid": "1c859adf-5fcc-4b29-a83d-47a76f3be7ac"
   },
   "source": [
    "```remove``` 和``` pop ```都可以删除元素，前者是指定具体要删除的元素，后者是指定一个索引。"
   ]
  },
  {
   "cell_type": "markdown",
   "metadata": {
    "cellType": "markdown",
    "uuid": "31c10e21-ce5a-487e-9b62-1c268d2bd71e"
   },
   "source": [
    "```del var1[, var2 ……]``` 删除单个或多个对象。"
   ]
  },
  {
   "cell_type": "code",
   "execution_count": 16,
   "metadata": {
    "uuid": "51c797ae-8a93-4118-9bc6-b8ec0b54de6e"
   },
   "outputs": [
    {
     "name": "stdout",
     "output_type": "stream",
     "text": [
      "['Wednesday', 'Thursday', 'Friday']\n"
     ]
    }
   ],
   "source": [
    "x = ['Monday', 'Tuesday', 'Wednesday', 'Thursday', 'Friday']\n",
    "del x[0:2]\n",
    "print(x)  # ['Wednesday', 'Thursday', 'Friday']"
   ]
  },
  {
   "cell_type": "markdown",
   "metadata": {
    "cellType": "markdown",
    "uuid": "7b37964d-9b89-41b2-bca7-5d83a3310408"
   },
   "source": [
    "### 获取列表中的元素\n",
    "通过元素的索引值，从列表获取单个元素，注意，列表索引值是从0开始的。\n",
    "通过将索引指定为-1，可让Python返回最后一个列表元素，索引 -2 返回倒数第二个列表元素，以此类推。"
   ]
  },
  {
   "cell_type": "markdown",
   "metadata": {
    "cellType": "markdown",
    "uuid": "9549bc85-2663-4655-b7a9-3735a38becfa"
   },
   "source": [
    "切片的通用写法是 ``start : stop : step``\n",
    "\n",
    "情况 1 - \"start :\"\n",
    "\n",
    "以 step 为 1 (默认) 从编号 start 往列表尾部切片。"
   ]
  },
  {
   "cell_type": "code",
   "execution_count": 17,
   "metadata": {
    "uuid": "b641f1cc-ab13-4560-8569-ad1c1ba78232"
   },
   "outputs": [
    {
     "name": "stdout",
     "output_type": "stream",
     "text": [
      "['Thursday', 'Friday']\n",
      "['Wednesday', 'Thursday', 'Friday']\n"
     ]
    }
   ],
   "source": [
    "x = ['Monday', 'Tuesday', 'Wednesday', 'Thursday', 'Friday']\n",
    "print(x[3:])  # ['Thursday', 'Friday']\n",
    "print(x[-3:])  # ['Wednesday', 'Thursday', 'Friday']"
   ]
  },
  {
   "cell_type": "markdown",
   "metadata": {
    "cellType": "markdown",
    "uuid": "3ff19619-58bb-4b8e-9904-8dce5440cfc0"
   },
   "source": [
    "情况 2 - \": stop\"\n",
    "\n",
    "以 step 为 1 (默认) 从列表头部往编号 stop 切片。"
   ]
  },
  {
   "cell_type": "code",
   "execution_count": 18,
   "metadata": {
    "uuid": "76fca8a3-385a-4850-bfd1-c8360a3cdf59"
   },
   "outputs": [
    {
     "name": "stdout",
     "output_type": "stream",
     "text": [
      "['Monday', 'Tuesday', 'Wednesday']\n",
      "['Monday', 'Tuesday']\n"
     ]
    }
   ],
   "source": [
    "week = ['Monday', 'Tuesday', 'Wednesday', 'Thursday', 'Friday']\n",
    "print(week[:3])  # ['Monday', 'Tuesday', 'Wednesday']\n",
    "print(week[:-3])  # ['Monday', 'Tuesday']"
   ]
  },
  {
   "cell_type": "markdown",
   "metadata": {
    "cellType": "markdown",
    "uuid": "252614e5-6f6a-45d4-9325-dde79ef9287d"
   },
   "source": [
    "```\n",
    "情况 3 - \"start : stop\"\n",
    "以 step 为 1 (默认) 从编号 start 往编号 stop 切片。\n",
    "情况 4 - \"start : stop : step\"\n",
    "以具体的 step 从编号 start 往编号 stop 切片。注意最后把 step 设为 -1，相当于将列表反向排列。\n",
    "```"
   ]
  },
  {
   "cell_type": "code",
   "execution_count": 19,
   "metadata": {
    "uuid": "06fb57d2-d656-422d-9644-31052c3f830c"
   },
   "outputs": [
    {
     "name": "stdout",
     "output_type": "stream",
     "text": [
      "['Tuesday', 'Thursday']\n",
      "['Monday', 'Wednesday']\n",
      "['Tuesday', 'Thursday']\n",
      "['Friday', 'Thursday', 'Wednesday', 'Tuesday', 'Monday']\n"
     ]
    }
   ],
   "source": [
    "week = ['Monday', 'Tuesday', 'Wednesday', 'Thursday', 'Friday']\n",
    "print(week[1:4:2])  # ['Tuesday', 'Thursday']\n",
    "print(week[:4:2])  # ['Monday', 'Wednesday']\n",
    "print(week[1::2])  # ['Tuesday', 'Thursday']\n",
    "print(week[::-1])  \n",
    "# ['Friday', 'Thursday', 'Wednesday', 'Tuesday', 'Monday']"
   ]
  },
  {
   "cell_type": "code",
   "execution_count": 20,
   "metadata": {
    "uuid": "7f822692-9077-40dd-ad9d-09042831f712"
   },
   "outputs": [
    {
     "name": "stdout",
     "output_type": "stream",
     "text": [
      "['Monday', 'Tuesday', 'Wednesday', 'Thursday', 'Friday']\n"
     ]
    }
   ],
   "source": [
    "\"\"\"\n",
    "情况 5 - \" : \"\n",
    "复制列表中的所有元素（浅拷贝）。\n",
    "\"\"\"\n",
    "week = ['Monday', 'Tuesday', 'Wednesday', 'Thursday', 'Friday']\n",
    "print(week[:])  \n",
    "# ['Monday', 'Tuesday', 'Wednesday', 'Thursday', 'Friday']"
   ]
  },
  {
   "cell_type": "markdown",
   "metadata": {
    "cellType": "markdown",
    "uuid": "a17e5fdf-f959-41d4-b760-ff186830acae"
   },
   "source": [
    "### 列表中其他方法"
   ]
  },
  {
   "cell_type": "markdown",
   "metadata": {
    "cellType": "markdown",
    "uuid": "b255b61a-298e-4cc0-98aa-e07120e69f08"
   },
   "source": [
    "1.```list.count(obj)``` 统计某个元素在列表中出现的次数 \n",
    "\n",
    "2.```list.index(x[, start[, end]])``` 从列表中找出某个值第一个匹配项的索引位置 \n",
    "\n",
    "3.```list.reverse() ```反向列表中元素\n",
    "\n",
    "4.```list.sort(key=None, reverse=False)``` 对原列表进行排序。\n",
    "\n",
    "```key ```-- 主要是用来进行比较的元素，只有一个参数，具体的函数的参数就是取自于可迭代对象中，指定可迭代对象中的一个元素来进行排序。\n",
    "\n",
    "```reverse ```-- 排序规则，reverse = True 降序， reverse = False 升序（默认）。\n",
    "该方法没有返回值，但是会对列表的对象进行排序。"
   ]
  },
  {
   "cell_type": "code",
   "execution_count": 21,
   "metadata": {
    "uuid": "32071b56-8c2c-4b8d-a532-815cdf935a9e"
   },
   "outputs": [
    {
     "name": "stdout",
     "output_type": "stream",
     "text": [
      "[123, 213, 456, 789]\n",
      "[789, 456, 213, 123]\n",
      "[(4, 1), (2, 2), (1, 3), (3, 4)]\n",
      "[(1, 3), (2, 2), (3, 4), (4, 1)]\n"
     ]
    }
   ],
   "source": [
    "x = [123, 456, 789, 213]\n",
    "x.sort()\n",
    "print(x)\n",
    "# [123, 213, 456, 789]\n",
    "\n",
    "x.sort(reverse=True)\n",
    "print(x)\n",
    "# [789, 456, 213, 123]\n",
    "\n",
    "\n",
    "# 获取列表的第二个元素\n",
    "def takeSecond(elem):\n",
    "    return elem[1]\n",
    "\n",
    "\n",
    "x = [(2, 2), (3, 4), (4, 1), (1, 3)]\n",
    "x.sort(key=takeSecond)\n",
    "print(x)\n",
    "# [(4, 1), (2, 2), (1, 3), (3, 4)]\n",
    "\n",
    "x.sort(key=lambda a: a[0])\n",
    "print(x)\n",
    "# [(1, 3), (2, 2), (3, 4), (4, 1)]"
   ]
  },
  {
   "cell_type": "code",
   "execution_count": 28,
   "metadata": {
    "uuid": "74da03e7-d04a-4130-be93-c3a5444cacf6"
   },
   "outputs": [
    {
     "name": "stdout",
     "output_type": "stream",
     "text": [
      "[2, 5, 6, 7, 8, 9, 2, 9, 9, 15]\n",
      "[2, 5, 6, 7, 8, 9, 2, 9, 9, 15, [2, 5, 6]]\n",
      "[2, 5, 6, 8, 9, 2, 9, 9, 15, [2, 5, 6]]\n"
     ]
    }
   ],
   "source": [
    "# 练习题\n",
    "# 1\n",
    "lst = [2, 5, 6, 7, 8, 9, 2, 9, 9]\n",
    "lst.append(15)\n",
    "print(lst)\n",
    "lst.append([2,5,6])\n",
    "print(lst)\n",
    "lst.pop(3)\n",
    "print(lst)\n",
    "lst.reverse()"
   ]
  },
  {
   "cell_type": "code",
   "execution_count": 33,
   "metadata": {
    "uuid": "ed382c67-e55e-4ec5-b6c7-6bd2a7274f2c"
   },
   "outputs": [
    {
     "name": "stdout",
     "output_type": "stream",
     "text": [
      "[2, [8, 12], True]\n"
     ]
    }
   ],
   "source": [
    "# 修改列表\n",
    "lst = [1, [4, 6], True]\n",
    "lst = [lst[0]*2,[8,12],True]\n",
    "print(lst)"
   ]
  },
  {
   "cell_type": "markdown",
   "metadata": {
    "cellType": "markdown",
    "uuid": "50563918-a780-4994-a5a0-38b7891c317e"
   },
   "source": [
    "### 元组内置方法"
   ]
  },
  {
   "cell_type": "markdown",
   "metadata": {
    "cellType": "markdown",
    "uuid": "a98d6146-c465-4b08-945c-10768bbc825a"
   },
   "source": [
    "元组大小和内容都不可更改，因此只有 ```count 和 index``` 两种方法。"
   ]
  },
  {
   "cell_type": "code",
   "execution_count": 34,
   "metadata": {
    "uuid": "11b7b366-ed58-43ad-8322-97ffe6f07cf4"
   },
   "outputs": [
    {
     "name": "stdout",
     "output_type": "stream",
     "text": [
      "1\n",
      "1\n"
     ]
    }
   ],
   "source": [
    "t = (1, 10.31, 'python')\n",
    "print(t.count('python'))  # 1\n",
    "print(t.index(10.31))  # 1"
   ]
  },
  {
   "cell_type": "markdown",
   "metadata": {
    "cellType": "markdown",
    "uuid": "90de052f-810a-418a-8f91-a12eac6636ed"
   },
   "source": [
    "#### 解压元组"
   ]
  },
  {
   "cell_type": "code",
   "execution_count": 35,
   "metadata": {
    "uuid": "f06b2366-6485-46c7-9fea-ba5667c695ee"
   },
   "outputs": [
    {
     "name": "stdout",
     "output_type": "stream",
     "text": [
      "1 10.31 python\n"
     ]
    }
   ],
   "source": [
    "t = (1, 10.31, 'python')\n",
    "(a, b, c) = t\n",
    "print(a, b, c)\n",
    "# 1 10.31 python"
   ]
  },
  {
   "cell_type": "code",
   "execution_count": 36,
   "metadata": {
    "uuid": "b5f8186b-8660-464b-b273-3b6d47f65c3e"
   },
   "outputs": [
    {
     "name": "stdout",
     "output_type": "stream",
     "text": [
      "1 10.31 OK python\n"
     ]
    }
   ],
   "source": [
    "t = (1, 10.31, ('OK', 'python'))\n",
    "(a, b, (c, d)) = t\n",
    "print(a, b, c, d)\n",
    "# 1 10.31 OK pythonZZZZZZZZZZZ"
   ]
  },
  {
   "cell_type": "code",
   "execution_count": null,
   "metadata": {
    "uuid": "fb54c611-5710-4f35-857a-4fb0237ba84a"
   },
   "outputs": [],
   "source": []
  }
 ],
 "metadata": {
  "kernelspec": {
   "display_name": "Python 3",
   "language": "python",
   "name": "python3"
  },
  "language_info": {
   "codemirror_mode": {
    "name": "ipython",
    "version": 3
   },
   "file_extension": ".py",
   "mimetype": "text/x-python",
   "name": "python",
   "nbconvert_exporter": "python",
   "pygments_lexer": "ipython3",
   "version": "3.6.3"
  }
 },
 "nbformat": 4,
 "nbformat_minor": 4
}
